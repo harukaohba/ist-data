{
 "cells": [
  {
   "cell_type": "markdown",
   "metadata": {},
   "source": [
    "# 富士山判別機\n",
    "2019/04/02作成\n",
    "\n",
    "参考\n",
    "[TensorFlowで画像認識「〇〇判別機」を作る - Qiita](https://qiita.com/too-ai/items/4fad0239b8b3c465fe6d)  \n",
    "[Tensorflowでエラー「tensorflow error KeyError: “The name 'import/Mul' refers to an Operation not in the graph.”」が出た時](https://qiita.com/umeee/items/ffde72ec84fa2065b1ff)"
   ]
  },
  {
   "cell_type": "markdown",
   "metadata": {},
   "source": [
    "## 画像取得\n",
    "Pythonを使って「スクレイピング」する"
   ]
  },
  {
   "cell_type": "code",
   "execution_count": 1,
   "metadata": {},
   "outputs": [],
   "source": [
    "# !pip install google_images_download"
   ]
  },
  {
   "cell_type": "markdown",
   "metadata": {},
   "source": [
    "画像をダウンロードする  \n",
    "実行した階層からダウンロードが実行されます。  \n",
    "downloads/検索ワードディレクトリ（自動生成）/1.xxxxxx.jpg(画像)  \n",
    "というように、downloadsというディレクトリと、検索ワードディレクトリが自動生成されます。  \n",
    "その中にデフォルトで100枚の画像がダウンロードされていきます。  \n",
    "今回は\"ヒマラヤ\"、\"阿蘇山\"、\"山　紅葉\"、\"山　桜\"、\"利尻山\"と\"富士山\"でいきます  \n",
    "日本語だとうまくいかないので、それぞれ\"himaraya\"、\"aso\"、\"koyo\"、\"sakura\"、\"rishi\"と\"fuji\"にします  "
   ]
  },
  {
   "cell_type": "code",
   "execution_count": 2,
   "metadata": {},
   "outputs": [],
   "source": [
    "#googleimagesdownload -k 検索したいワード"
   ]
  },
  {
   "cell_type": "markdown",
   "metadata": {},
   "source": [
    "データを選別して、正しいデータのみにします。これにより精度を高めます。  \n",
    "下のコマンドで連番にしていきますが注意が必要です(スクレイピングしてきたときの名前の付け方で、そのままだとダメ)  \n",
    "https://teratail.com/questions/89068"
   ]
  },
  {
   "cell_type": "code",
   "execution_count": 3,
   "metadata": {},
   "outputs": [],
   "source": [
    "#!ls *.jpg | awk '{ printf \"mv %s %03d.jpg\\n\", $0, NR }' | sh"
   ]
  },
  {
   "cell_type": "markdown",
   "metadata": {},
   "source": [
    "## 学習 その1\n",
    "[retrain.py](https://github.com/tensorflow/hub/blob/master/examples/image_retraining/retrain.py)"
   ]
  },
  {
   "cell_type": "code",
   "execution_count": 4,
   "metadata": {},
   "outputs": [
    {
     "name": "stdout",
     "output_type": "stream",
     "text": [
      "WARNING: Logging before flag parsing goes to stderr.\n",
      "W0402 22:15:22.161435 140586705590016 __init__.py:56] Some hub symbols are not available because TensorFlow version is less than 1.14\n",
      "INFO:tensorflow:Looking for images in 'aso'\n",
      "I0402 22:15:22.176105 140586705590016 retrain.py:159] Looking for images in 'aso'\n",
      "INFO:tensorflow:Looking for images in 'fuji'\n",
      "I0402 22:15:22.189754 140586705590016 retrain.py:159] Looking for images in 'fuji'\n",
      "INFO:tensorflow:Looking for images in 'himaraya'\n",
      "I0402 22:15:22.197636 140586705590016 retrain.py:159] Looking for images in 'himaraya'\n",
      "INFO:tensorflow:Looking for images in 'koyo'\n",
      "I0402 22:15:22.212111 140586705590016 retrain.py:159] Looking for images in 'koyo'\n",
      "INFO:tensorflow:Looking for images in 'rishi'\n",
      "I0402 22:15:22.221831 140586705590016 retrain.py:159] Looking for images in 'rishi'\n",
      "INFO:tensorflow:Looking for images in 'sakura'\n",
      "I0402 22:15:22.227310 140586705590016 retrain.py:159] Looking for images in 'sakura'\n",
      "2019-04-02 22:15:22.545426: W tensorflow/core/graph/graph_constructor.cc:1272] Importing a graph with a lower producer version 26 into an existing graph with producer version 27. Shape inference will have run different parts of the graph with different producer versions.\n",
      "WARNING:tensorflow:From /home/class/anaconda3/lib/python3.7/site-packages/tensorflow/python/ops/control_flow_ops.py:3632: colocate_with (from tensorflow.python.framework.ops) is deprecated and will be removed in a future version.\n",
      "Instructions for updating:\n",
      "Colocations handled automatically by placer.\n",
      "W0402 22:15:23.162027 140586705590016 deprecation.py:323] From /home/class/anaconda3/lib/python3.7/site-packages/tensorflow/python/ops/control_flow_ops.py:3632: colocate_with (from tensorflow.python.framework.ops) is deprecated and will be removed in a future version.\n",
      "Instructions for updating:\n",
      "Colocations handled automatically by placer.\n",
      "INFO:tensorflow:Saver not created because there are no variables in the graph to restore\n",
      "I0402 22:15:27.370645 140586705590016 saver.py:1483] Saver not created because there are no variables in the graph to restore\n",
      "WARNING:tensorflow:From /home/class/anaconda3/lib/python3.7/site-packages/tensorflow/python/ops/losses/losses_impl.py:209: to_float (from tensorflow.python.ops.math_ops) is deprecated and will be removed in a future version.\n",
      "Instructions for updating:\n",
      "Use tf.cast instead.\n",
      "W0402 22:15:27.860391 140586705590016 deprecation.py:323] From /home/class/anaconda3/lib/python3.7/site-packages/tensorflow/python/ops/losses/losses_impl.py:209: to_float (from tensorflow.python.ops.math_ops) is deprecated and will be removed in a future version.\n",
      "Instructions for updating:\n",
      "Use tf.cast instead.\n",
      "2019-04-02 22:15:27.959120: I tensorflow/core/platform/cpu_feature_guard.cc:141] Your CPU supports instructions that this TensorFlow binary was not compiled to use: AVX2 FMA\n",
      "2019-04-02 22:15:27.963000: I tensorflow/core/platform/profile_utils/cpu_utils.cc:94] CPU Frequency: 3100485000 Hz\n",
      "2019-04-02 22:15:27.963146: I tensorflow/compiler/xla/service/service.cc:150] XLA service 0x55dffd556510 executing computations on platform Host. Devices:\n",
      "2019-04-02 22:15:27.963167: I tensorflow/compiler/xla/service/service.cc:158]   StreamExecutor device (0): <undefined>, <undefined>\n",
      "INFO:tensorflow:100 bottleneck files created.\n",
      "I0402 22:15:29.467381 140586705590016 retrain.py:436] 100 bottleneck files created.\n",
      "INFO:tensorflow:200 bottleneck files created.\n",
      "I0402 22:15:29.535051 140586705590016 retrain.py:436] 200 bottleneck files created.\n",
      "INFO:tensorflow:300 bottleneck files created.\n",
      "I0402 22:15:29.587574 140586705590016 retrain.py:436] 300 bottleneck files created.\n",
      "INFO:tensorflow:400 bottleneck files created.\n",
      "I0402 22:15:29.706164 140586705590016 retrain.py:436] 400 bottleneck files created.\n",
      "INFO:tensorflow:500 bottleneck files created.\n",
      "I0402 22:15:29.818429 140586705590016 retrain.py:436] 500 bottleneck files created.\n",
      "INFO:tensorflow:2019-04-02 22:15:33.255533: Step 0: Train accuracy = 41.0%\n",
      "I0402 22:15:33.255626 140586705590016 retrain.py:1036] 2019-04-02 22:15:33.255533: Step 0: Train accuracy = 41.0%\n",
      "INFO:tensorflow:2019-04-02 22:15:33.255930: Step 0: Cross entropy = 1.728015\n",
      "I0402 22:15:33.256076 140586705590016 retrain.py:1038] 2019-04-02 22:15:33.255930: Step 0: Cross entropy = 1.728015\n",
      "INFO:tensorflow:2019-04-02 22:15:33.744092: Step 0: Validation accuracy = 39.0% (N=100)\n",
      "I0402 22:15:33.744174 140586705590016 retrain.py:1057] 2019-04-02 22:15:33.744092: Step 0: Validation accuracy = 39.0% (N=100)\n",
      "INFO:tensorflow:2019-04-02 22:15:34.512211: Step 10: Train accuracy = 72.0%\n",
      "I0402 22:15:34.512350 140586705590016 retrain.py:1036] 2019-04-02 22:15:34.512211: Step 10: Train accuracy = 72.0%\n",
      "INFO:tensorflow:2019-04-02 22:15:34.512638: Step 10: Cross entropy = 1.420751\n",
      "I0402 22:15:34.512655 140586705590016 retrain.py:1038] 2019-04-02 22:15:34.512638: Step 10: Cross entropy = 1.420751\n",
      "INFO:tensorflow:2019-04-02 22:15:34.614153: Step 10: Validation accuracy = 56.0% (N=100)\n",
      "I0402 22:15:34.614386 140586705590016 retrain.py:1057] 2019-04-02 22:15:34.614153: Step 10: Validation accuracy = 56.0% (N=100)\n",
      "INFO:tensorflow:2019-04-02 22:15:35.300964: Step 20: Train accuracy = 75.0%\n",
      "I0402 22:15:35.301051 140586705590016 retrain.py:1036] 2019-04-02 22:15:35.300964: Step 20: Train accuracy = 75.0%\n",
      "INFO:tensorflow:2019-04-02 22:15:35.301360: Step 20: Cross entropy = 1.212739\n",
      "I0402 22:15:35.301508 140586705590016 retrain.py:1038] 2019-04-02 22:15:35.301360: Step 20: Cross entropy = 1.212739\n",
      "INFO:tensorflow:2019-04-02 22:15:35.374413: Step 20: Validation accuracy = 70.0% (N=100)\n",
      "I0402 22:15:35.374521 140586705590016 retrain.py:1057] 2019-04-02 22:15:35.374413: Step 20: Validation accuracy = 70.0% (N=100)\n",
      "INFO:tensorflow:2019-04-02 22:15:36.027827: Step 30: Train accuracy = 76.0%\n",
      "I0402 22:15:36.028048 140586705590016 retrain.py:1036] 2019-04-02 22:15:36.027827: Step 30: Train accuracy = 76.0%\n",
      "INFO:tensorflow:2019-04-02 22:15:36.028484: Step 30: Cross entropy = 1.090535\n",
      "I0402 22:15:36.028535 140586705590016 retrain.py:1038] 2019-04-02 22:15:36.028484: Step 30: Cross entropy = 1.090535\n",
      "INFO:tensorflow:2019-04-02 22:15:36.110899: Step 30: Validation accuracy = 69.0% (N=100)\n",
      "I0402 22:15:36.110976 140586705590016 retrain.py:1057] 2019-04-02 22:15:36.110899: Step 30: Validation accuracy = 69.0% (N=100)\n",
      "INFO:tensorflow:2019-04-02 22:15:37.083917: Step 40: Train accuracy = 76.0%\n",
      "I0402 22:15:37.083994 140586705590016 retrain.py:1036] 2019-04-02 22:15:37.083917: Step 40: Train accuracy = 76.0%\n",
      "INFO:tensorflow:2019-04-02 22:15:37.084252: Step 40: Cross entropy = 1.042428\n",
      "I0402 22:15:37.084266 140586705590016 retrain.py:1038] 2019-04-02 22:15:37.084252: Step 40: Cross entropy = 1.042428\n",
      "INFO:tensorflow:2019-04-02 22:15:37.230890: Step 40: Validation accuracy = 75.0% (N=100)\n",
      "I0402 22:15:37.231188 140586705590016 retrain.py:1057] 2019-04-02 22:15:37.230890: Step 40: Validation accuracy = 75.0% (N=100)\n",
      "INFO:tensorflow:2019-04-02 22:15:38.363366: Step 50: Train accuracy = 77.0%\n",
      "I0402 22:15:38.363448 140586705590016 retrain.py:1036] 2019-04-02 22:15:38.363366: Step 50: Train accuracy = 77.0%\n",
      "INFO:tensorflow:2019-04-02 22:15:38.363737: Step 50: Cross entropy = 0.931152\n",
      "I0402 22:15:38.363895 140586705590016 retrain.py:1038] 2019-04-02 22:15:38.363737: Step 50: Cross entropy = 0.931152\n",
      "INFO:tensorflow:2019-04-02 22:15:38.427601: Step 50: Validation accuracy = 79.0% (N=100)\n",
      "I0402 22:15:38.427694 140586705590016 retrain.py:1057] 2019-04-02 22:15:38.427601: Step 50: Validation accuracy = 79.0% (N=100)\n",
      "INFO:tensorflow:2019-04-02 22:15:39.130292: Step 60: Train accuracy = 77.0%\n",
      "I0402 22:15:39.130376 140586705590016 retrain.py:1036] 2019-04-02 22:15:39.130292: Step 60: Train accuracy = 77.0%\n",
      "INFO:tensorflow:2019-04-02 22:15:39.130667: Step 60: Cross entropy = 0.908731\n",
      "I0402 22:15:39.130683 140586705590016 retrain.py:1038] 2019-04-02 22:15:39.130667: Step 60: Cross entropy = 0.908731\n",
      "INFO:tensorflow:2019-04-02 22:15:39.207007: Step 60: Validation accuracy = 74.0% (N=100)\n",
      "I0402 22:15:39.207109 140586705590016 retrain.py:1057] 2019-04-02 22:15:39.207007: Step 60: Validation accuracy = 74.0% (N=100)\n",
      "INFO:tensorflow:2019-04-02 22:15:39.813619: Step 70: Train accuracy = 80.0%\n",
      "I0402 22:15:39.813697 140586705590016 retrain.py:1036] 2019-04-02 22:15:39.813619: Step 70: Train accuracy = 80.0%\n",
      "INFO:tensorflow:2019-04-02 22:15:39.813987: Step 70: Cross entropy = 0.772409\n",
      "I0402 22:15:39.814133 140586705590016 retrain.py:1038] 2019-04-02 22:15:39.813987: Step 70: Cross entropy = 0.772409\n"
     ]
    },
    {
     "name": "stdout",
     "output_type": "stream",
     "text": [
      "INFO:tensorflow:2019-04-02 22:15:39.890346: Step 70: Validation accuracy = 60.0% (N=100)\n",
      "I0402 22:15:39.890429 140586705590016 retrain.py:1057] 2019-04-02 22:15:39.890346: Step 70: Validation accuracy = 60.0% (N=100)\n",
      "INFO:tensorflow:2019-04-02 22:15:40.526331: Step 80: Train accuracy = 87.0%\n",
      "I0402 22:15:40.526406 140586705590016 retrain.py:1036] 2019-04-02 22:15:40.526331: Step 80: Train accuracy = 87.0%\n",
      "INFO:tensorflow:2019-04-02 22:15:40.526694: Step 80: Cross entropy = 0.727726\n",
      "I0402 22:15:40.526829 140586705590016 retrain.py:1038] 2019-04-02 22:15:40.526694: Step 80: Cross entropy = 0.727726\n",
      "INFO:tensorflow:2019-04-02 22:15:40.596597: Step 80: Validation accuracy = 79.0% (N=100)\n",
      "I0402 22:15:40.596670 140586705590016 retrain.py:1057] 2019-04-02 22:15:40.596597: Step 80: Validation accuracy = 79.0% (N=100)\n",
      "INFO:tensorflow:2019-04-02 22:15:41.567064: Step 90: Train accuracy = 86.0%\n",
      "I0402 22:15:41.567139 140586705590016 retrain.py:1036] 2019-04-02 22:15:41.567064: Step 90: Train accuracy = 86.0%\n",
      "INFO:tensorflow:2019-04-02 22:15:41.567412: Step 90: Cross entropy = 0.774129\n",
      "I0402 22:15:41.567548 140586705590016 retrain.py:1038] 2019-04-02 22:15:41.567412: Step 90: Cross entropy = 0.774129\n",
      "INFO:tensorflow:2019-04-02 22:15:41.635928: Step 90: Validation accuracy = 73.0% (N=100)\n",
      "I0402 22:15:41.635998 140586705590016 retrain.py:1057] 2019-04-02 22:15:41.635928: Step 90: Validation accuracy = 73.0% (N=100)\n",
      "INFO:tensorflow:2019-04-02 22:15:42.425800: Step 99: Train accuracy = 87.0%\n",
      "I0402 22:15:42.425870 140586705590016 retrain.py:1036] 2019-04-02 22:15:42.425800: Step 99: Train accuracy = 87.0%\n",
      "INFO:tensorflow:2019-04-02 22:15:42.426123: Step 99: Cross entropy = 0.710952\n",
      "I0402 22:15:42.426148 140586705590016 retrain.py:1038] 2019-04-02 22:15:42.426123: Step 99: Cross entropy = 0.710952\n",
      "INFO:tensorflow:2019-04-02 22:15:42.525676: Step 99: Validation accuracy = 76.0% (N=100)\n",
      "I0402 22:15:42.525802 140586705590016 retrain.py:1057] 2019-04-02 22:15:42.525676: Step 99: Validation accuracy = 76.0% (N=100)\n",
      "2019-04-02 22:15:44.338201: W tensorflow/core/graph/graph_constructor.cc:1272] Importing a graph with a lower producer version 26 into an existing graph with producer version 27. Shape inference will have run different parts of the graph with different producer versions.\n",
      "INFO:tensorflow:Saver not created because there are no variables in the graph to restore\n",
      "I0402 22:15:49.645196 140586705590016 saver.py:1483] Saver not created because there are no variables in the graph to restore\n",
      "WARNING:tensorflow:From /home/class/anaconda3/lib/python3.7/site-packages/tensorflow/python/training/saver.py:1266: checkpoint_exists (from tensorflow.python.training.checkpoint_management) is deprecated and will be removed in a future version.\n",
      "Instructions for updating:\n",
      "Use standard file APIs to check for files with this prefix.\n",
      "W0402 22:15:50.610610 140586705590016 deprecation.py:323] From /home/class/anaconda3/lib/python3.7/site-packages/tensorflow/python/training/saver.py:1266: checkpoint_exists (from tensorflow.python.training.checkpoint_management) is deprecated and will be removed in a future version.\n",
      "Instructions for updating:\n",
      "Use standard file APIs to check for files with this prefix.\n",
      "INFO:tensorflow:Restoring parameters from /tmp/_retrain_checkpoint\n",
      "I0402 22:15:50.611808 140586705590016 saver.py:1270] Restoring parameters from /tmp/_retrain_checkpoint\n",
      "INFO:tensorflow:Final test accuracy = 68.6% (N=51)\n",
      "I0402 22:15:52.208574 140586705590016 retrain.py:795] Final test accuracy = 68.6% (N=51)\n",
      "INFO:tensorflow:Save final result to : retrained_graph.pb\n",
      "I0402 22:15:52.273717 140586705590016 retrain.py:1085] Save final result to : retrained_graph.pb\n",
      "2019-04-02 22:15:52.485518: W tensorflow/core/graph/graph_constructor.cc:1272] Importing a graph with a lower producer version 26 into an existing graph with producer version 27. Shape inference will have run different parts of the graph with different producer versions.\n",
      "INFO:tensorflow:Saver not created because there are no variables in the graph to restore\n",
      "I0402 22:15:56.561334 140586705590016 saver.py:1483] Saver not created because there are no variables in the graph to restore\n",
      "INFO:tensorflow:Restoring parameters from /tmp/_retrain_checkpoint\n",
      "I0402 22:15:57.466984 140586705590016 saver.py:1270] Restoring parameters from /tmp/_retrain_checkpoint\n",
      "WARNING:tensorflow:From retrain.py:843: convert_variables_to_constants (from tensorflow.python.framework.graph_util_impl) is deprecated and will be removed in a future version.\n",
      "Instructions for updating:\n",
      "Use tf.compat.v1.graph_util.convert_variables_to_constants\n",
      "W0402 22:15:58.309071 140586705590016 deprecation.py:323] From retrain.py:843: convert_variables_to_constants (from tensorflow.python.framework.graph_util_impl) is deprecated and will be removed in a future version.\n",
      "Instructions for updating:\n",
      "Use tf.compat.v1.graph_util.convert_variables_to_constants\n",
      "WARNING:tensorflow:From /home/class/anaconda3/lib/python3.7/site-packages/tensorflow/python/framework/graph_util_impl.py:245: extract_sub_graph (from tensorflow.python.framework.graph_util_impl) is deprecated and will be removed in a future version.\n",
      "Instructions for updating:\n",
      "Use tf.compat.v1.graph_util.extract_sub_graph\n",
      "W0402 22:15:58.309511 140586705590016 deprecation.py:323] From /home/class/anaconda3/lib/python3.7/site-packages/tensorflow/python/framework/graph_util_impl.py:245: extract_sub_graph (from tensorflow.python.framework.graph_util_impl) is deprecated and will be removed in a future version.\n",
      "Instructions for updating:\n",
      "Use tf.compat.v1.graph_util.extract_sub_graph\n",
      "INFO:tensorflow:Froze 378 variables.\n",
      "I0402 22:15:59.101505 140586705590016 graph_util_impl.py:268] Froze 378 variables.\n",
      "INFO:tensorflow:Converted 378 variables to const ops.\n",
      "I0402 22:15:59.230636 140586705590016 graph_util_impl.py:301] Converted 378 variables to const ops.\n"
     ]
    }
   ],
   "source": [
    "! python retrain.py \\\n",
    "  --bottleneck_dir=bottlenecks \\\n",
    "  --how_many_training_steps=100 \\\n",
    "  --model_dir=inception \\\n",
    "  --summaries_dir=training_summaries/basic \\\n",
    "  --output_graph=retrained_graph.pb \\\n",
    "  --output_labels=retrained_labels.txt \\\n",
    "  --image_dir=datasets"
   ]
  },
  {
   "cell_type": "markdown",
   "metadata": {},
   "source": [
    "### 確認\n",
    "[label_image.py](https://github.com/tensorflow/tensorflow/raw/master/tensorflow/examples/label_image/label_image.py)  \n",
    "[Tensorflowでエラー「tensorflow error KeyError: “The name 'import/Mul' refers to an Operation not in the graph.”」が出た時](https://qiita.com/umeee/items/ffde72ec84fa2065b1ff)  \n",
    "<img src=\"fuji.jpg\">"
   ]
  },
  {
   "cell_type": "code",
   "execution_count": 5,
   "metadata": {},
   "outputs": [
    {
     "name": "stdout",
     "output_type": "stream",
     "text": [
      "2019-04-02 22:16:01.939704: I tensorflow/core/platform/cpu_feature_guard.cc:141] Your CPU supports instructions that this TensorFlow binary was not compiled to use: AVX2 FMA\n",
      "2019-04-02 22:16:01.943202: I tensorflow/core/platform/profile_utils/cpu_utils.cc:94] CPU Frequency: 3100485000 Hz\n",
      "2019-04-02 22:16:01.943353: I tensorflow/compiler/xla/service/service.cc:150] XLA service 0x55e98394db70 executing computations on platform Host. Devices:\n",
      "2019-04-02 22:16:01.943374: I tensorflow/compiler/xla/service/service.cc:158]   StreamExecutor device (0): <undefined>, <undefined>\n",
      "fuji 0.758647\n",
      "rishi 0.11940811\n",
      "aso 0.08062877\n",
      "koyo 0.016958937\n",
      "himaraya 0.012418924\n"
     ]
    }
   ],
   "source": [
    "!python label_image.py --image fuji.jpg --graph retrained_graph.pb --labels retrained_labels.txt --input_layer=Placeholder"
   ]
  },
  {
   "cell_type": "markdown",
   "metadata": {},
   "source": [
    "## 学習 その2 retains_logs出してみたい→まだ\n",
    "4,000ステップの学習は以下  \n",
    "[Tensorflowの画像分類でハムケツを判定する - Qiita](https://qiita.com/quotto/items/645b01cf9c3919a52b12)  \n",
    "https://raw.githubusercontent.com/tensorflow/hub/r0.1/examples/image_retraining/retrain.py"
   ]
  },
  {
   "cell_type": "code",
   "execution_count": 6,
   "metadata": {},
   "outputs": [],
   "source": [
    "#ここからボトルネック（画像の特徴点のようなもの？）の作成と、4,000ステップの学習が始まります。私の環境では終わるまでおおよそ1時間ほどかかりました。\n",
    "#!python retrain_log.py --image_dir datasets"
   ]
  },
  {
   "cell_type": "markdown",
   "metadata": {},
   "source": [
    "### 確認"
   ]
  },
  {
   "cell_type": "code",
   "execution_count": 7,
   "metadata": {},
   "outputs": [],
   "source": [
    "#!python label_image.py --image fuji.jpg --graph retrained_graph.pb --labels retrained_labels.txt --input_layer=Placeholder"
   ]
  }
 ],
 "metadata": {
  "kernelspec": {
   "display_name": "Python 3",
   "language": "python",
   "name": "python3"
  },
  "language_info": {
   "codemirror_mode": {
    "name": "ipython",
    "version": 3
   },
   "file_extension": ".py",
   "mimetype": "text/x-python",
   "name": "python",
   "nbconvert_exporter": "python",
   "pygments_lexer": "ipython3",
   "version": "3.7.1"
  }
 },
 "nbformat": 4,
 "nbformat_minor": 2
}
