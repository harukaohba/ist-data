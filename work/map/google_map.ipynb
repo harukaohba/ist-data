{
 "cells": [
  {
   "cell_type": "markdown",
   "metadata": {},
   "source": [
    "# Google Mapと戯れる\n",
    "\n"
   ]
  },
  {
   "cell_type": "markdown",
   "metadata": {},
   "source": [
    "### [R で GoogleMaps にプロットする - Qiita](https://qiita.com/ckazu/items/d166757ed664ca622ecc)"
   ]
  },
  {
   "cell_type": "code",
   "execution_count": 8,
   "metadata": {},
   "outputs": [
    {
     "name": "stderr",
     "output_type": "stream",
     "text": [
      "Map from URL : http://maps.googleapis.com/maps/api/staticmap?center=35.68949,139.6917&zoom=10&size=640x640&scale=2&maptype=terrain&language=en-EN&sensor=false\n"
     ]
    },
    {
     "ename": "ERROR",
     "evalue": "Error in readPNG(tmp): file is not in PNG format\n",
     "output_type": "error",
     "traceback": [
      "Error in readPNG(tmp): file is not in PNG format\nTraceback:\n",
      "1. get_map(c(139.6917, 35.68949))",
      "2. get_googlemap(center = location, zoom = zoom, maptype = maptype, \n .     scale = scale, messaging = messaging, urlonly = urlonly, \n .     force = force, filename = filename, color = color, language = language)",
      "3. readPNG(tmp)"
     ]
    }
   ],
   "source": [
    "#install.packages('ggmap')\n",
    "library(ggmap)\n",
    "library(ggplot2)\n",
    "\n",
    "map <- get_map(c(139.6917, 35.68949))\n",
    "ggmap(map)"
   ]
  },
  {
   "cell_type": "markdown",
   "metadata": {},
   "source": [
    "### 参考：うまくいかず  \n",
    "[RでGoogle Mapsを使う - Qiita](https://qiita.com/ogawatachi/items/52ec6abe1e4ec8807822)"
   ]
  },
  {
   "cell_type": "code",
   "execution_count": 5,
   "metadata": {},
   "outputs": [],
   "source": [
    "#install.packages(\"RgoogleMaps\",dep = TRUE) # 初めての時はライブラリをダウンロードする\n",
    "if(0){ #コメント\n",
    "    \n",
    "library(RgoogleMaps)\n",
    "\n",
    "#地図の倍率指定。大きいほど地図が拡大されます\n",
    "zoom<-14 \n",
    "map = GetMap(c(lat = 35.681382, lon = 139.766084), \n",
    "             zoom=zoom, \n",
    "             sensor=\"false\", \n",
    "             hl=\"ja\" \n",
    "             )\n",
    "PlotOnStaticMap(map) # 地図の描画\n",
    "\n",
    "\n",
    "# すでに描画したMapに点を重ねる\n",
    "PlotOnStaticMap(map,\n",
    "                lat=35.681382, \n",
    "                lon=139.766084, \n",
    "                pch=19, \n",
    "                cex=2,\n",
    "                col = rgb(0, 0, 1, alpha=1),\n",
    "                add=TRUE \n",
    "                )\n",
    "}"
   ]
  },
  {
   "cell_type": "code",
   "execution_count": null,
   "metadata": {},
   "outputs": [],
   "source": []
  }
 ],
 "metadata": {
  "kernelspec": {
   "display_name": "R",
   "language": "R",
   "name": "ir"
  },
  "language_info": {
   "codemirror_mode": "r",
   "file_extension": ".r",
   "mimetype": "text/x-r-source",
   "name": "R",
   "pygments_lexer": "r",
   "version": "3.5.1"
  }
 },
 "nbformat": 4,
 "nbformat_minor": 2
}
