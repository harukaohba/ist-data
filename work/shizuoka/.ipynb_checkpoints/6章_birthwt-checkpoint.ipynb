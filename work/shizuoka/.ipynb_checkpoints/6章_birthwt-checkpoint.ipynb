{
 "cells": [
  {
   "cell_type": "markdown",
   "metadata": {},
   "source": [
    "# 6章演習：birthwt\n",
    "「低体重出生とそのリスク因子の関連」データを利用(189件)  \n",
    "low : 新生児の体重が2.5kg未満か?(2.5kg未満->1)  目的変数として利用  \n",
    "age : 母親の年齢 \n",
    "lwt : 母親の体重(ポンド)  \n",
    "race : 人種(白人->1, 黒人->2, その他->3)  \n",
    "smoke : 母親の喫煙有無(喫煙有->1)  \n",
    "ptl : 母親の早産経験の回数  \n",
    "ht : 母親の高血圧の有無(有->1)  \n",
    "ui : 母親の子宮神経過敏の有(有->1)  \n",
    "ftv:妊娠中期の医師訪問数  \n",
    "bwt : 産まれた時の体重(利用しない)  \n",
    "  \n",
    "このデータの基本分析を行い、データを把握しなさい  \n",
    "サポートベクターマシンで分類の精度を確認しなさい  "
   ]
  },
  {
   "cell_type": "code",
   "execution_count": 3,
   "metadata": {},
   "outputs": [
    {
     "data": {
      "text/html": [
       "<table>\n",
       "<thead><tr><th></th><th scope=col>low</th><th scope=col>age</th><th scope=col>lwt</th><th scope=col>race</th><th scope=col>smoke</th><th scope=col>ptl</th><th scope=col>ht</th><th scope=col>ui</th><th scope=col>ftv</th><th scope=col>bwt</th></tr></thead>\n",
       "<tbody>\n",
       "\t<tr><th scope=row>85</th><td>0   </td><td>19  </td><td>182 </td><td>2   </td><td>0   </td><td>0   </td><td>0   </td><td>1   </td><td>0   </td><td>2523</td></tr>\n",
       "\t<tr><th scope=row>86</th><td>0   </td><td>33  </td><td>155 </td><td>3   </td><td>0   </td><td>0   </td><td>0   </td><td>0   </td><td>3   </td><td>2551</td></tr>\n",
       "\t<tr><th scope=row>87</th><td>0   </td><td>20  </td><td>105 </td><td>1   </td><td>1   </td><td>0   </td><td>0   </td><td>0   </td><td>1   </td><td>2557</td></tr>\n",
       "\t<tr><th scope=row>88</th><td>0   </td><td>21  </td><td>108 </td><td>1   </td><td>1   </td><td>0   </td><td>0   </td><td>1   </td><td>2   </td><td>2594</td></tr>\n",
       "\t<tr><th scope=row>89</th><td>0   </td><td>18  </td><td>107 </td><td>1   </td><td>1   </td><td>0   </td><td>0   </td><td>1   </td><td>0   </td><td>2600</td></tr>\n",
       "\t<tr><th scope=row>91</th><td>0   </td><td>21  </td><td>124 </td><td>3   </td><td>0   </td><td>0   </td><td>0   </td><td>0   </td><td>0   </td><td>2622</td></tr>\n",
       "\t<tr><th scope=row>92</th><td>0   </td><td>22  </td><td>118 </td><td>1   </td><td>0   </td><td>0   </td><td>0   </td><td>0   </td><td>1   </td><td>2637</td></tr>\n",
       "\t<tr><th scope=row>93</th><td>0   </td><td>17  </td><td>103 </td><td>3   </td><td>0   </td><td>0   </td><td>0   </td><td>0   </td><td>1   </td><td>2637</td></tr>\n",
       "\t<tr><th scope=row>94</th><td>0   </td><td>29  </td><td>123 </td><td>1   </td><td>1   </td><td>0   </td><td>0   </td><td>0   </td><td>1   </td><td>2663</td></tr>\n",
       "\t<tr><th scope=row>95</th><td>0   </td><td>26  </td><td>113 </td><td>1   </td><td>1   </td><td>0   </td><td>0   </td><td>0   </td><td>0   </td><td>2665</td></tr>\n",
       "\t<tr><th scope=row>96</th><td>0   </td><td>19  </td><td> 95 </td><td>3   </td><td>0   </td><td>0   </td><td>0   </td><td>0   </td><td>0   </td><td>2722</td></tr>\n",
       "\t<tr><th scope=row>97</th><td>0   </td><td>19  </td><td>150 </td><td>3   </td><td>0   </td><td>0   </td><td>0   </td><td>0   </td><td>1   </td><td>2733</td></tr>\n",
       "\t<tr><th scope=row>98</th><td>0   </td><td>22  </td><td> 95 </td><td>3   </td><td>0   </td><td>0   </td><td>1   </td><td>0   </td><td>0   </td><td>2751</td></tr>\n",
       "\t<tr><th scope=row>99</th><td>0   </td><td>30  </td><td>107 </td><td>3   </td><td>0   </td><td>1   </td><td>0   </td><td>1   </td><td>2   </td><td>2750</td></tr>\n",
       "\t<tr><th scope=row>100</th><td>0   </td><td>18  </td><td>100 </td><td>1   </td><td>1   </td><td>0   </td><td>0   </td><td>0   </td><td>0   </td><td>2769</td></tr>\n",
       "\t<tr><th scope=row>101</th><td>0   </td><td>18  </td><td>100 </td><td>1   </td><td>1   </td><td>0   </td><td>0   </td><td>0   </td><td>0   </td><td>2769</td></tr>\n",
       "\t<tr><th scope=row>102</th><td>0   </td><td>15  </td><td> 98 </td><td>2   </td><td>0   </td><td>0   </td><td>0   </td><td>0   </td><td>0   </td><td>2778</td></tr>\n",
       "\t<tr><th scope=row>103</th><td>0   </td><td>25  </td><td>118 </td><td>1   </td><td>1   </td><td>0   </td><td>0   </td><td>0   </td><td>3   </td><td>2782</td></tr>\n",
       "\t<tr><th scope=row>104</th><td>0   </td><td>20  </td><td>120 </td><td>3   </td><td>0   </td><td>0   </td><td>0   </td><td>1   </td><td>0   </td><td>2807</td></tr>\n",
       "\t<tr><th scope=row>105</th><td>0   </td><td>28  </td><td>120 </td><td>1   </td><td>1   </td><td>0   </td><td>0   </td><td>0   </td><td>1   </td><td>2821</td></tr>\n",
       "\t<tr><th scope=row>106</th><td>0   </td><td>32  </td><td>121 </td><td>3   </td><td>0   </td><td>0   </td><td>0   </td><td>0   </td><td>2   </td><td>2835</td></tr>\n",
       "\t<tr><th scope=row>107</th><td>0   </td><td>31  </td><td>100 </td><td>1   </td><td>0   </td><td>0   </td><td>0   </td><td>1   </td><td>3   </td><td>2835</td></tr>\n",
       "\t<tr><th scope=row>108</th><td>0   </td><td>36  </td><td>202 </td><td>1   </td><td>0   </td><td>0   </td><td>0   </td><td>0   </td><td>1   </td><td>2836</td></tr>\n",
       "\t<tr><th scope=row>109</th><td>0   </td><td>28  </td><td>120 </td><td>3   </td><td>0   </td><td>0   </td><td>0   </td><td>0   </td><td>0   </td><td>2863</td></tr>\n",
       "\t<tr><th scope=row>111</th><td>0   </td><td>25  </td><td>120 </td><td>3   </td><td>0   </td><td>0   </td><td>0   </td><td>1   </td><td>2   </td><td>2877</td></tr>\n",
       "\t<tr><th scope=row>112</th><td>0   </td><td>28  </td><td>167 </td><td>1   </td><td>0   </td><td>0   </td><td>0   </td><td>0   </td><td>0   </td><td>2877</td></tr>\n",
       "\t<tr><th scope=row>113</th><td>0   </td><td>17  </td><td>122 </td><td>1   </td><td>1   </td><td>0   </td><td>0   </td><td>0   </td><td>0   </td><td>2906</td></tr>\n",
       "\t<tr><th scope=row>114</th><td>0   </td><td>29  </td><td>150 </td><td>1   </td><td>0   </td><td>0   </td><td>0   </td><td>0   </td><td>2   </td><td>2920</td></tr>\n",
       "\t<tr><th scope=row>115</th><td>0   </td><td>26  </td><td>168 </td><td>2   </td><td>1   </td><td>0   </td><td>0   </td><td>0   </td><td>0   </td><td>2920</td></tr>\n",
       "\t<tr><th scope=row>116</th><td>0   </td><td>17  </td><td>113 </td><td>2   </td><td>0   </td><td>0   </td><td>0   </td><td>0   </td><td>1   </td><td>2920</td></tr>\n",
       "\t<tr><th scope=row>⋮</th><td>⋮</td><td>⋮</td><td>⋮</td><td>⋮</td><td>⋮</td><td>⋮</td><td>⋮</td><td>⋮</td><td>⋮</td><td>⋮</td></tr>\n",
       "\t<tr><th scope=row>44</th><td>1   </td><td>20  </td><td> 80 </td><td>3   </td><td>1   </td><td>0   </td><td>0   </td><td>1   </td><td>0   </td><td>2211</td></tr>\n",
       "\t<tr><th scope=row>45</th><td>1   </td><td>17  </td><td>110 </td><td>1   </td><td>1   </td><td>0   </td><td>0   </td><td>0   </td><td>0   </td><td>2225</td></tr>\n",
       "\t<tr><th scope=row>46</th><td>1   </td><td>25  </td><td>105 </td><td>3   </td><td>0   </td><td>1   </td><td>0   </td><td>0   </td><td>1   </td><td>2240</td></tr>\n",
       "\t<tr><th scope=row>47</th><td>1   </td><td>20  </td><td>109 </td><td>3   </td><td>0   </td><td>0   </td><td>0   </td><td>0   </td><td>0   </td><td>2240</td></tr>\n",
       "\t<tr><th scope=row>49</th><td>1   </td><td>18  </td><td>148 </td><td>3   </td><td>0   </td><td>0   </td><td>0   </td><td>0   </td><td>0   </td><td>2282</td></tr>\n",
       "\t<tr><th scope=row>50</th><td>1   </td><td>18  </td><td>110 </td><td>2   </td><td>1   </td><td>1   </td><td>0   </td><td>0   </td><td>0   </td><td>2296</td></tr>\n",
       "\t<tr><th scope=row>51</th><td>1   </td><td>20  </td><td>121 </td><td>1   </td><td>1   </td><td>1   </td><td>0   </td><td>1   </td><td>0   </td><td>2296</td></tr>\n",
       "\t<tr><th scope=row>52</th><td>1   </td><td>21  </td><td>100 </td><td>3   </td><td>0   </td><td>1   </td><td>0   </td><td>0   </td><td>4   </td><td>2301</td></tr>\n",
       "\t<tr><th scope=row>54</th><td>1   </td><td>26  </td><td> 96 </td><td>3   </td><td>0   </td><td>0   </td><td>0   </td><td>0   </td><td>0   </td><td>2325</td></tr>\n",
       "\t<tr><th scope=row>56</th><td>1   </td><td>31  </td><td>102 </td><td>1   </td><td>1   </td><td>1   </td><td>0   </td><td>0   </td><td>1   </td><td>2353</td></tr>\n",
       "\t<tr><th scope=row>57</th><td>1   </td><td>15  </td><td>110 </td><td>1   </td><td>0   </td><td>0   </td><td>0   </td><td>0   </td><td>0   </td><td>2353</td></tr>\n",
       "\t<tr><th scope=row>59</th><td>1   </td><td>23  </td><td>187 </td><td>2   </td><td>1   </td><td>0   </td><td>0   </td><td>0   </td><td>1   </td><td>2367</td></tr>\n",
       "\t<tr><th scope=row>60</th><td>1   </td><td>20  </td><td>122 </td><td>2   </td><td>1   </td><td>0   </td><td>0   </td><td>0   </td><td>0   </td><td>2381</td></tr>\n",
       "\t<tr><th scope=row>61</th><td>1   </td><td>24  </td><td>105 </td><td>2   </td><td>1   </td><td>0   </td><td>0   </td><td>0   </td><td>0   </td><td>2381</td></tr>\n",
       "\t<tr><th scope=row>62</th><td>1   </td><td>15  </td><td>115 </td><td>3   </td><td>0   </td><td>0   </td><td>0   </td><td>1   </td><td>0   </td><td>2381</td></tr>\n",
       "\t<tr><th scope=row>63</th><td>1   </td><td>23  </td><td>120 </td><td>3   </td><td>0   </td><td>0   </td><td>0   </td><td>0   </td><td>0   </td><td>2410</td></tr>\n",
       "\t<tr><th scope=row>65</th><td>1   </td><td>30  </td><td>142 </td><td>1   </td><td>1   </td><td>1   </td><td>0   </td><td>0   </td><td>0   </td><td>2410</td></tr>\n",
       "\t<tr><th scope=row>67</th><td>1   </td><td>22  </td><td>130 </td><td>1   </td><td>1   </td><td>0   </td><td>0   </td><td>0   </td><td>1   </td><td>2410</td></tr>\n",
       "\t<tr><th scope=row>68</th><td>1   </td><td>17  </td><td>120 </td><td>1   </td><td>1   </td><td>0   </td><td>0   </td><td>0   </td><td>3   </td><td>2414</td></tr>\n",
       "\t<tr><th scope=row>69</th><td>1   </td><td>23  </td><td>110 </td><td>1   </td><td>1   </td><td>1   </td><td>0   </td><td>0   </td><td>0   </td><td>2424</td></tr>\n",
       "\t<tr><th scope=row>71</th><td>1   </td><td>17  </td><td>120 </td><td>2   </td><td>0   </td><td>0   </td><td>0   </td><td>0   </td><td>2   </td><td>2438</td></tr>\n",
       "\t<tr><th scope=row>75</th><td>1   </td><td>26  </td><td>154 </td><td>3   </td><td>0   </td><td>1   </td><td>1   </td><td>0   </td><td>1   </td><td>2442</td></tr>\n",
       "\t<tr><th scope=row>76</th><td>1   </td><td>20  </td><td>105 </td><td>3   </td><td>0   </td><td>0   </td><td>0   </td><td>0   </td><td>3   </td><td>2450</td></tr>\n",
       "\t<tr><th scope=row>77</th><td>1   </td><td>26  </td><td>190 </td><td>1   </td><td>1   </td><td>0   </td><td>0   </td><td>0   </td><td>0   </td><td>2466</td></tr>\n",
       "\t<tr><th scope=row>78</th><td>1   </td><td>14  </td><td>101 </td><td>3   </td><td>1   </td><td>1   </td><td>0   </td><td>0   </td><td>0   </td><td>2466</td></tr>\n",
       "\t<tr><th scope=row>79</th><td>1   </td><td>28  </td><td> 95 </td><td>1   </td><td>1   </td><td>0   </td><td>0   </td><td>0   </td><td>2   </td><td>2466</td></tr>\n",
       "\t<tr><th scope=row>81</th><td>1   </td><td>14  </td><td>100 </td><td>3   </td><td>0   </td><td>0   </td><td>0   </td><td>0   </td><td>2   </td><td>2495</td></tr>\n",
       "\t<tr><th scope=row>82</th><td>1   </td><td>23  </td><td> 94 </td><td>3   </td><td>1   </td><td>0   </td><td>0   </td><td>0   </td><td>0   </td><td>2495</td></tr>\n",
       "\t<tr><th scope=row>83</th><td>1   </td><td>17  </td><td>142 </td><td>2   </td><td>0   </td><td>0   </td><td>1   </td><td>0   </td><td>0   </td><td>2495</td></tr>\n",
       "\t<tr><th scope=row>84</th><td>1   </td><td>21  </td><td>130 </td><td>1   </td><td>1   </td><td>0   </td><td>1   </td><td>0   </td><td>3   </td><td>2495</td></tr>\n",
       "</tbody>\n",
       "</table>\n"
      ],
      "text/latex": [
       "\\begin{tabular}{r|llllllllll}\n",
       "  & low & age & lwt & race & smoke & ptl & ht & ui & ftv & bwt\\\\\n",
       "\\hline\n",
       "\t85 & 0    & 19   & 182  & 2    & 0    & 0    & 0    & 1    & 0    & 2523\\\\\n",
       "\t86 & 0    & 33   & 155  & 3    & 0    & 0    & 0    & 0    & 3    & 2551\\\\\n",
       "\t87 & 0    & 20   & 105  & 1    & 1    & 0    & 0    & 0    & 1    & 2557\\\\\n",
       "\t88 & 0    & 21   & 108  & 1    & 1    & 0    & 0    & 1    & 2    & 2594\\\\\n",
       "\t89 & 0    & 18   & 107  & 1    & 1    & 0    & 0    & 1    & 0    & 2600\\\\\n",
       "\t91 & 0    & 21   & 124  & 3    & 0    & 0    & 0    & 0    & 0    & 2622\\\\\n",
       "\t92 & 0    & 22   & 118  & 1    & 0    & 0    & 0    & 0    & 1    & 2637\\\\\n",
       "\t93 & 0    & 17   & 103  & 3    & 0    & 0    & 0    & 0    & 1    & 2637\\\\\n",
       "\t94 & 0    & 29   & 123  & 1    & 1    & 0    & 0    & 0    & 1    & 2663\\\\\n",
       "\t95 & 0    & 26   & 113  & 1    & 1    & 0    & 0    & 0    & 0    & 2665\\\\\n",
       "\t96 & 0    & 19   &  95  & 3    & 0    & 0    & 0    & 0    & 0    & 2722\\\\\n",
       "\t97 & 0    & 19   & 150  & 3    & 0    & 0    & 0    & 0    & 1    & 2733\\\\\n",
       "\t98 & 0    & 22   &  95  & 3    & 0    & 0    & 1    & 0    & 0    & 2751\\\\\n",
       "\t99 & 0    & 30   & 107  & 3    & 0    & 1    & 0    & 1    & 2    & 2750\\\\\n",
       "\t100 & 0    & 18   & 100  & 1    & 1    & 0    & 0    & 0    & 0    & 2769\\\\\n",
       "\t101 & 0    & 18   & 100  & 1    & 1    & 0    & 0    & 0    & 0    & 2769\\\\\n",
       "\t102 & 0    & 15   &  98  & 2    & 0    & 0    & 0    & 0    & 0    & 2778\\\\\n",
       "\t103 & 0    & 25   & 118  & 1    & 1    & 0    & 0    & 0    & 3    & 2782\\\\\n",
       "\t104 & 0    & 20   & 120  & 3    & 0    & 0    & 0    & 1    & 0    & 2807\\\\\n",
       "\t105 & 0    & 28   & 120  & 1    & 1    & 0    & 0    & 0    & 1    & 2821\\\\\n",
       "\t106 & 0    & 32   & 121  & 3    & 0    & 0    & 0    & 0    & 2    & 2835\\\\\n",
       "\t107 & 0    & 31   & 100  & 1    & 0    & 0    & 0    & 1    & 3    & 2835\\\\\n",
       "\t108 & 0    & 36   & 202  & 1    & 0    & 0    & 0    & 0    & 1    & 2836\\\\\n",
       "\t109 & 0    & 28   & 120  & 3    & 0    & 0    & 0    & 0    & 0    & 2863\\\\\n",
       "\t111 & 0    & 25   & 120  & 3    & 0    & 0    & 0    & 1    & 2    & 2877\\\\\n",
       "\t112 & 0    & 28   & 167  & 1    & 0    & 0    & 0    & 0    & 0    & 2877\\\\\n",
       "\t113 & 0    & 17   & 122  & 1    & 1    & 0    & 0    & 0    & 0    & 2906\\\\\n",
       "\t114 & 0    & 29   & 150  & 1    & 0    & 0    & 0    & 0    & 2    & 2920\\\\\n",
       "\t115 & 0    & 26   & 168  & 2    & 1    & 0    & 0    & 0    & 0    & 2920\\\\\n",
       "\t116 & 0    & 17   & 113  & 2    & 0    & 0    & 0    & 0    & 1    & 2920\\\\\n",
       "\t⋮ & ⋮ & ⋮ & ⋮ & ⋮ & ⋮ & ⋮ & ⋮ & ⋮ & ⋮ & ⋮\\\\\n",
       "\t44 & 1    & 20   &  80  & 3    & 1    & 0    & 0    & 1    & 0    & 2211\\\\\n",
       "\t45 & 1    & 17   & 110  & 1    & 1    & 0    & 0    & 0    & 0    & 2225\\\\\n",
       "\t46 & 1    & 25   & 105  & 3    & 0    & 1    & 0    & 0    & 1    & 2240\\\\\n",
       "\t47 & 1    & 20   & 109  & 3    & 0    & 0    & 0    & 0    & 0    & 2240\\\\\n",
       "\t49 & 1    & 18   & 148  & 3    & 0    & 0    & 0    & 0    & 0    & 2282\\\\\n",
       "\t50 & 1    & 18   & 110  & 2    & 1    & 1    & 0    & 0    & 0    & 2296\\\\\n",
       "\t51 & 1    & 20   & 121  & 1    & 1    & 1    & 0    & 1    & 0    & 2296\\\\\n",
       "\t52 & 1    & 21   & 100  & 3    & 0    & 1    & 0    & 0    & 4    & 2301\\\\\n",
       "\t54 & 1    & 26   &  96  & 3    & 0    & 0    & 0    & 0    & 0    & 2325\\\\\n",
       "\t56 & 1    & 31   & 102  & 1    & 1    & 1    & 0    & 0    & 1    & 2353\\\\\n",
       "\t57 & 1    & 15   & 110  & 1    & 0    & 0    & 0    & 0    & 0    & 2353\\\\\n",
       "\t59 & 1    & 23   & 187  & 2    & 1    & 0    & 0    & 0    & 1    & 2367\\\\\n",
       "\t60 & 1    & 20   & 122  & 2    & 1    & 0    & 0    & 0    & 0    & 2381\\\\\n",
       "\t61 & 1    & 24   & 105  & 2    & 1    & 0    & 0    & 0    & 0    & 2381\\\\\n",
       "\t62 & 1    & 15   & 115  & 3    & 0    & 0    & 0    & 1    & 0    & 2381\\\\\n",
       "\t63 & 1    & 23   & 120  & 3    & 0    & 0    & 0    & 0    & 0    & 2410\\\\\n",
       "\t65 & 1    & 30   & 142  & 1    & 1    & 1    & 0    & 0    & 0    & 2410\\\\\n",
       "\t67 & 1    & 22   & 130  & 1    & 1    & 0    & 0    & 0    & 1    & 2410\\\\\n",
       "\t68 & 1    & 17   & 120  & 1    & 1    & 0    & 0    & 0    & 3    & 2414\\\\\n",
       "\t69 & 1    & 23   & 110  & 1    & 1    & 1    & 0    & 0    & 0    & 2424\\\\\n",
       "\t71 & 1    & 17   & 120  & 2    & 0    & 0    & 0    & 0    & 2    & 2438\\\\\n",
       "\t75 & 1    & 26   & 154  & 3    & 0    & 1    & 1    & 0    & 1    & 2442\\\\\n",
       "\t76 & 1    & 20   & 105  & 3    & 0    & 0    & 0    & 0    & 3    & 2450\\\\\n",
       "\t77 & 1    & 26   & 190  & 1    & 1    & 0    & 0    & 0    & 0    & 2466\\\\\n",
       "\t78 & 1    & 14   & 101  & 3    & 1    & 1    & 0    & 0    & 0    & 2466\\\\\n",
       "\t79 & 1    & 28   &  95  & 1    & 1    & 0    & 0    & 0    & 2    & 2466\\\\\n",
       "\t81 & 1    & 14   & 100  & 3    & 0    & 0    & 0    & 0    & 2    & 2495\\\\\n",
       "\t82 & 1    & 23   &  94  & 3    & 1    & 0    & 0    & 0    & 0    & 2495\\\\\n",
       "\t83 & 1    & 17   & 142  & 2    & 0    & 0    & 1    & 0    & 0    & 2495\\\\\n",
       "\t84 & 1    & 21   & 130  & 1    & 1    & 0    & 1    & 0    & 3    & 2495\\\\\n",
       "\\end{tabular}\n"
      ],
      "text/markdown": [
       "\n",
       "| <!--/--> | low | age | lwt | race | smoke | ptl | ht | ui | ftv | bwt | \n",
       "|---|---|---|---|---|---|---|---|---|---|---|---|---|---|---|---|---|---|---|---|---|---|---|---|---|---|---|---|---|---|---|---|---|---|---|---|---|---|---|---|---|---|---|---|---|---|---|---|---|---|---|---|---|---|---|---|---|---|---|---|---|\n",
       "| 85 | 0    | 19   | 182  | 2    | 0    | 0    | 0    | 1    | 0    | 2523 | \n",
       "| 86 | 0    | 33   | 155  | 3    | 0    | 0    | 0    | 0    | 3    | 2551 | \n",
       "| 87 | 0    | 20   | 105  | 1    | 1    | 0    | 0    | 0    | 1    | 2557 | \n",
       "| 88 | 0    | 21   | 108  | 1    | 1    | 0    | 0    | 1    | 2    | 2594 | \n",
       "| 89 | 0    | 18   | 107  | 1    | 1    | 0    | 0    | 1    | 0    | 2600 | \n",
       "| 91 | 0    | 21   | 124  | 3    | 0    | 0    | 0    | 0    | 0    | 2622 | \n",
       "| 92 | 0    | 22   | 118  | 1    | 0    | 0    | 0    | 0    | 1    | 2637 | \n",
       "| 93 | 0    | 17   | 103  | 3    | 0    | 0    | 0    | 0    | 1    | 2637 | \n",
       "| 94 | 0    | 29   | 123  | 1    | 1    | 0    | 0    | 0    | 1    | 2663 | \n",
       "| 95 | 0    | 26   | 113  | 1    | 1    | 0    | 0    | 0    | 0    | 2665 | \n",
       "| 96 | 0    | 19   |  95  | 3    | 0    | 0    | 0    | 0    | 0    | 2722 | \n",
       "| 97 | 0    | 19   | 150  | 3    | 0    | 0    | 0    | 0    | 1    | 2733 | \n",
       "| 98 | 0    | 22   |  95  | 3    | 0    | 0    | 1    | 0    | 0    | 2751 | \n",
       "| 99 | 0    | 30   | 107  | 3    | 0    | 1    | 0    | 1    | 2    | 2750 | \n",
       "| 100 | 0    | 18   | 100  | 1    | 1    | 0    | 0    | 0    | 0    | 2769 | \n",
       "| 101 | 0    | 18   | 100  | 1    | 1    | 0    | 0    | 0    | 0    | 2769 | \n",
       "| 102 | 0    | 15   |  98  | 2    | 0    | 0    | 0    | 0    | 0    | 2778 | \n",
       "| 103 | 0    | 25   | 118  | 1    | 1    | 0    | 0    | 0    | 3    | 2782 | \n",
       "| 104 | 0    | 20   | 120  | 3    | 0    | 0    | 0    | 1    | 0    | 2807 | \n",
       "| 105 | 0    | 28   | 120  | 1    | 1    | 0    | 0    | 0    | 1    | 2821 | \n",
       "| 106 | 0    | 32   | 121  | 3    | 0    | 0    | 0    | 0    | 2    | 2835 | \n",
       "| 107 | 0    | 31   | 100  | 1    | 0    | 0    | 0    | 1    | 3    | 2835 | \n",
       "| 108 | 0    | 36   | 202  | 1    | 0    | 0    | 0    | 0    | 1    | 2836 | \n",
       "| 109 | 0    | 28   | 120  | 3    | 0    | 0    | 0    | 0    | 0    | 2863 | \n",
       "| 111 | 0    | 25   | 120  | 3    | 0    | 0    | 0    | 1    | 2    | 2877 | \n",
       "| 112 | 0    | 28   | 167  | 1    | 0    | 0    | 0    | 0    | 0    | 2877 | \n",
       "| 113 | 0    | 17   | 122  | 1    | 1    | 0    | 0    | 0    | 0    | 2906 | \n",
       "| 114 | 0    | 29   | 150  | 1    | 0    | 0    | 0    | 0    | 2    | 2920 | \n",
       "| 115 | 0    | 26   | 168  | 2    | 1    | 0    | 0    | 0    | 0    | 2920 | \n",
       "| 116 | 0    | 17   | 113  | 2    | 0    | 0    | 0    | 0    | 1    | 2920 | \n",
       "| ⋮ | ⋮ | ⋮ | ⋮ | ⋮ | ⋮ | ⋮ | ⋮ | ⋮ | ⋮ | ⋮ | \n",
       "| 44 | 1    | 20   |  80  | 3    | 1    | 0    | 0    | 1    | 0    | 2211 | \n",
       "| 45 | 1    | 17   | 110  | 1    | 1    | 0    | 0    | 0    | 0    | 2225 | \n",
       "| 46 | 1    | 25   | 105  | 3    | 0    | 1    | 0    | 0    | 1    | 2240 | \n",
       "| 47 | 1    | 20   | 109  | 3    | 0    | 0    | 0    | 0    | 0    | 2240 | \n",
       "| 49 | 1    | 18   | 148  | 3    | 0    | 0    | 0    | 0    | 0    | 2282 | \n",
       "| 50 | 1    | 18   | 110  | 2    | 1    | 1    | 0    | 0    | 0    | 2296 | \n",
       "| 51 | 1    | 20   | 121  | 1    | 1    | 1    | 0    | 1    | 0    | 2296 | \n",
       "| 52 | 1    | 21   | 100  | 3    | 0    | 1    | 0    | 0    | 4    | 2301 | \n",
       "| 54 | 1    | 26   |  96  | 3    | 0    | 0    | 0    | 0    | 0    | 2325 | \n",
       "| 56 | 1    | 31   | 102  | 1    | 1    | 1    | 0    | 0    | 1    | 2353 | \n",
       "| 57 | 1    | 15   | 110  | 1    | 0    | 0    | 0    | 0    | 0    | 2353 | \n",
       "| 59 | 1    | 23   | 187  | 2    | 1    | 0    | 0    | 0    | 1    | 2367 | \n",
       "| 60 | 1    | 20   | 122  | 2    | 1    | 0    | 0    | 0    | 0    | 2381 | \n",
       "| 61 | 1    | 24   | 105  | 2    | 1    | 0    | 0    | 0    | 0    | 2381 | \n",
       "| 62 | 1    | 15   | 115  | 3    | 0    | 0    | 0    | 1    | 0    | 2381 | \n",
       "| 63 | 1    | 23   | 120  | 3    | 0    | 0    | 0    | 0    | 0    | 2410 | \n",
       "| 65 | 1    | 30   | 142  | 1    | 1    | 1    | 0    | 0    | 0    | 2410 | \n",
       "| 67 | 1    | 22   | 130  | 1    | 1    | 0    | 0    | 0    | 1    | 2410 | \n",
       "| 68 | 1    | 17   | 120  | 1    | 1    | 0    | 0    | 0    | 3    | 2414 | \n",
       "| 69 | 1    | 23   | 110  | 1    | 1    | 1    | 0    | 0    | 0    | 2424 | \n",
       "| 71 | 1    | 17   | 120  | 2    | 0    | 0    | 0    | 0    | 2    | 2438 | \n",
       "| 75 | 1    | 26   | 154  | 3    | 0    | 1    | 1    | 0    | 1    | 2442 | \n",
       "| 76 | 1    | 20   | 105  | 3    | 0    | 0    | 0    | 0    | 3    | 2450 | \n",
       "| 77 | 1    | 26   | 190  | 1    | 1    | 0    | 0    | 0    | 0    | 2466 | \n",
       "| 78 | 1    | 14   | 101  | 3    | 1    | 1    | 0    | 0    | 0    | 2466 | \n",
       "| 79 | 1    | 28   |  95  | 1    | 1    | 0    | 0    | 0    | 2    | 2466 | \n",
       "| 81 | 1    | 14   | 100  | 3    | 0    | 0    | 0    | 0    | 2    | 2495 | \n",
       "| 82 | 1    | 23   |  94  | 3    | 1    | 0    | 0    | 0    | 0    | 2495 | \n",
       "| 83 | 1    | 17   | 142  | 2    | 0    | 0    | 1    | 0    | 0    | 2495 | \n",
       "| 84 | 1    | 21   | 130  | 1    | 1    | 0    | 1    | 0    | 3    | 2495 | \n",
       "\n",
       "\n"
      ],
      "text/plain": [
       "    low age lwt race smoke ptl ht ui ftv bwt \n",
       "85  0   19  182 2    0     0   0  1  0   2523\n",
       "86  0   33  155 3    0     0   0  0  3   2551\n",
       "87  0   20  105 1    1     0   0  0  1   2557\n",
       "88  0   21  108 1    1     0   0  1  2   2594\n",
       "89  0   18  107 1    1     0   0  1  0   2600\n",
       "91  0   21  124 3    0     0   0  0  0   2622\n",
       "92  0   22  118 1    0     0   0  0  1   2637\n",
       "93  0   17  103 3    0     0   0  0  1   2637\n",
       "94  0   29  123 1    1     0   0  0  1   2663\n",
       "95  0   26  113 1    1     0   0  0  0   2665\n",
       "96  0   19   95 3    0     0   0  0  0   2722\n",
       "97  0   19  150 3    0     0   0  0  1   2733\n",
       "98  0   22   95 3    0     0   1  0  0   2751\n",
       "99  0   30  107 3    0     1   0  1  2   2750\n",
       "100 0   18  100 1    1     0   0  0  0   2769\n",
       "101 0   18  100 1    1     0   0  0  0   2769\n",
       "102 0   15   98 2    0     0   0  0  0   2778\n",
       "103 0   25  118 1    1     0   0  0  3   2782\n",
       "104 0   20  120 3    0     0   0  1  0   2807\n",
       "105 0   28  120 1    1     0   0  0  1   2821\n",
       "106 0   32  121 3    0     0   0  0  2   2835\n",
       "107 0   31  100 1    0     0   0  1  3   2835\n",
       "108 0   36  202 1    0     0   0  0  1   2836\n",
       "109 0   28  120 3    0     0   0  0  0   2863\n",
       "111 0   25  120 3    0     0   0  1  2   2877\n",
       "112 0   28  167 1    0     0   0  0  0   2877\n",
       "113 0   17  122 1    1     0   0  0  0   2906\n",
       "114 0   29  150 1    0     0   0  0  2   2920\n",
       "115 0   26  168 2    1     0   0  0  0   2920\n",
       "116 0   17  113 2    0     0   0  0  1   2920\n",
       "⋮   ⋮   ⋮   ⋮   ⋮    ⋮     ⋮   ⋮  ⋮  ⋮   ⋮   \n",
       "44  1   20   80 3    1     0   0  1  0   2211\n",
       "45  1   17  110 1    1     0   0  0  0   2225\n",
       "46  1   25  105 3    0     1   0  0  1   2240\n",
       "47  1   20  109 3    0     0   0  0  0   2240\n",
       "49  1   18  148 3    0     0   0  0  0   2282\n",
       "50  1   18  110 2    1     1   0  0  0   2296\n",
       "51  1   20  121 1    1     1   0  1  0   2296\n",
       "52  1   21  100 3    0     1   0  0  4   2301\n",
       "54  1   26   96 3    0     0   0  0  0   2325\n",
       "56  1   31  102 1    1     1   0  0  1   2353\n",
       "57  1   15  110 1    0     0   0  0  0   2353\n",
       "59  1   23  187 2    1     0   0  0  1   2367\n",
       "60  1   20  122 2    1     0   0  0  0   2381\n",
       "61  1   24  105 2    1     0   0  0  0   2381\n",
       "62  1   15  115 3    0     0   0  1  0   2381\n",
       "63  1   23  120 3    0     0   0  0  0   2410\n",
       "65  1   30  142 1    1     1   0  0  0   2410\n",
       "67  1   22  130 1    1     0   0  0  1   2410\n",
       "68  1   17  120 1    1     0   0  0  3   2414\n",
       "69  1   23  110 1    1     1   0  0  0   2424\n",
       "71  1   17  120 2    0     0   0  0  2   2438\n",
       "75  1   26  154 3    0     1   1  0  1   2442\n",
       "76  1   20  105 3    0     0   0  0  3   2450\n",
       "77  1   26  190 1    1     0   0  0  0   2466\n",
       "78  1   14  101 3    1     1   0  0  0   2466\n",
       "79  1   28   95 1    1     0   0  0  2   2466\n",
       "81  1   14  100 3    0     0   0  0  2   2495\n",
       "82  1   23   94 3    1     0   0  0  0   2495\n",
       "83  1   17  142 2    0     0   1  0  0   2495\n",
       "84  1   21  130 1    1     0   1  0  3   2495"
      ]
     },
     "metadata": {},
     "output_type": "display_data"
    }
   ],
   "source": [
    "#データの取り込み\n",
    "library(MASS)\n",
    "data(birthwt)\n",
    "birthwt"
   ]
  },
  {
   "cell_type": "code",
   "execution_count": 4,
   "metadata": {},
   "outputs": [
    {
     "data": {
      "text/html": [
       "189"
      ],
      "text/latex": [
       "189"
      ],
      "text/markdown": [
       "189"
      ],
      "text/plain": [
       "[1] 189"
      ]
     },
     "metadata": {},
     "output_type": "display_data"
    }
   ],
   "source": [
    "nrow(birthwt)"
   ]
  },
  {
   "cell_type": "code",
   "execution_count": 6,
   "metadata": {},
   "outputs": [
    {
     "name": "stdout",
     "output_type": "stream",
     "text": [
      "'data.frame':\t189 obs. of  10 variables:\n",
      " $ low  : int  0 0 0 0 0 0 0 0 0 0 ...\n",
      " $ age  : int  19 33 20 21 18 21 22 17 29 26 ...\n",
      " $ lwt  : int  182 155 105 108 107 124 118 103 123 113 ...\n",
      " $ race : int  2 3 1 1 1 3 1 3 1 1 ...\n",
      " $ smoke: int  0 0 1 1 1 0 0 0 1 1 ...\n",
      " $ ptl  : int  0 0 0 0 0 0 0 0 0 0 ...\n",
      " $ ht   : int  0 0 0 0 0 0 0 0 0 0 ...\n",
      " $ ui   : int  1 0 0 1 1 0 0 0 0 0 ...\n",
      " $ ftv  : int  0 3 1 2 0 0 1 1 1 0 ...\n",
      " $ bwt  : int  2523 2551 2557 2594 2600 2622 2637 2637 2663 2665 ...\n"
     ]
    }
   ],
   "source": [
    "str(birthwt)"
   ]
  },
  {
   "cell_type": "code",
   "execution_count": 7,
   "metadata": {},
   "outputs": [
    {
     "data": {
      "text/plain": [
       "      low              age             lwt             race      \n",
       " Min.   :0.0000   Min.   :14.00   Min.   : 80.0   Min.   :1.000  \n",
       " 1st Qu.:0.0000   1st Qu.:19.00   1st Qu.:110.0   1st Qu.:1.000  \n",
       " Median :0.0000   Median :23.00   Median :121.0   Median :1.000  \n",
       " Mean   :0.3122   Mean   :23.24   Mean   :129.8   Mean   :1.847  \n",
       " 3rd Qu.:1.0000   3rd Qu.:26.00   3rd Qu.:140.0   3rd Qu.:3.000  \n",
       " Max.   :1.0000   Max.   :45.00   Max.   :250.0   Max.   :3.000  \n",
       "     smoke             ptl               ht                ui        \n",
       " Min.   :0.0000   Min.   :0.0000   Min.   :0.00000   Min.   :0.0000  \n",
       " 1st Qu.:0.0000   1st Qu.:0.0000   1st Qu.:0.00000   1st Qu.:0.0000  \n",
       " Median :0.0000   Median :0.0000   Median :0.00000   Median :0.0000  \n",
       " Mean   :0.3915   Mean   :0.1958   Mean   :0.06349   Mean   :0.1481  \n",
       " 3rd Qu.:1.0000   3rd Qu.:0.0000   3rd Qu.:0.00000   3rd Qu.:0.0000  \n",
       " Max.   :1.0000   Max.   :3.0000   Max.   :1.00000   Max.   :1.0000  \n",
       "      ftv              bwt      \n",
       " Min.   :0.0000   Min.   : 709  \n",
       " 1st Qu.:0.0000   1st Qu.:2414  \n",
       " Median :0.0000   Median :2977  \n",
       " Mean   :0.7937   Mean   :2945  \n",
       " 3rd Qu.:1.0000   3rd Qu.:3487  \n",
       " Max.   :6.0000   Max.   :4990  "
      ]
     },
     "metadata": {},
     "output_type": "display_data"
    }
   ],
   "source": [
    "summary(birthwt)"
   ]
  },
  {
   "cell_type": "markdown",
   "metadata": {},
   "source": [
    "## グラフ表示"
   ]
  },
  {
   "cell_type": "code",
   "execution_count": 10,
   "metadata": {},
   "outputs": [
    {
     "data": {
      "image/png": "[encoded data removed]",
      "text/plain": [
       "plot without title"
      ]
     },
     "metadata": {},
     "output_type": "display_data"
    }
   ],
   "source": [
    "par(ps = 7)#文字の大きさを小さく\n",
    "boxplot(birthwt)"
   ]
  },
  {
   "cell_type": "code",
   "execution_count": 21,
   "metadata": {},
   "outputs": [
    {
     "data": {
      "image/png": "[encoded data removed]",
      "text/plain": [
       "Plot with title “bwt”"
      ]
     },
     "metadata": {},
     "output_type": "display_data"
    }
   ],
   "source": [
    "par(mfrow=c(5,2)) \n",
    "# for (ループ変数 in ベクトルやリスト)\n",
    "for (i in 1:10) {\n",
    "    hist(birthwt[,i], xlab =colnames(birthwt[i]), main = colnames(birthwt[i]))\n",
    "}                             "
   ]
  },
  {
   "cell_type": "markdown",
   "metadata": {},
   "source": [
    "## サポートベクターマシン"
   ]
  },
  {
   "cell_type": "code",
   "execution_count": 24,
   "metadata": {},
   "outputs": [
    {
     "data": {
      "text/html": [
       "<table>\n",
       "<thead><tr><th></th><th scope=col>low</th><th scope=col>age</th><th scope=col>lwt</th><th scope=col>race</th><th scope=col>smoke</th><th scope=col>ptl</th><th scope=col>ht</th><th scope=col>ui</th><th scope=col>ftv</th></tr></thead>\n",
       "<tbody>\n",
       "\t<tr><th scope=row>142</th><td>0  </td><td>19 </td><td>115</td><td>3  </td><td>0  </td><td>0  </td><td>0  </td><td>0  </td><td>0  </td></tr>\n",
       "\t<tr><th scope=row>30</th><td>1  </td><td>21 </td><td>103</td><td>3  </td><td>0  </td><td>0  </td><td>0  </td><td>0  </td><td>0  </td></tr>\n",
       "\t<tr><th scope=row>169</th><td>0  </td><td>25 </td><td>140</td><td>1  </td><td>0  </td><td>0  </td><td>0  </td><td>0  </td><td>1  </td></tr>\n",
       "\t<tr><th scope=row>50</th><td>1  </td><td>18 </td><td>110</td><td>2  </td><td>1  </td><td>1  </td><td>0  </td><td>0  </td><td>0  </td></tr>\n",
       "\t<tr><th scope=row>62</th><td>1  </td><td>15 </td><td>115</td><td>3  </td><td>0  </td><td>0  </td><td>0  </td><td>1  </td><td>0  </td></tr>\n",
       "\t<tr><th scope=row>94</th><td>0  </td><td>29 </td><td>123</td><td>1  </td><td>1  </td><td>0  </td><td>0  </td><td>0  </td><td>1  </td></tr>\n",
       "</tbody>\n",
       "</table>\n"
      ],
      "text/latex": [
       "\\begin{tabular}{r|lllllllll}\n",
       "  & low & age & lwt & race & smoke & ptl & ht & ui & ftv\\\\\n",
       "\\hline\n",
       "\t142 & 0   & 19  & 115 & 3   & 0   & 0   & 0   & 0   & 0  \\\\\n",
       "\t30 & 1   & 21  & 103 & 3   & 0   & 0   & 0   & 0   & 0  \\\\\n",
       "\t169 & 0   & 25  & 140 & 1   & 0   & 0   & 0   & 0   & 1  \\\\\n",
       "\t50 & 1   & 18  & 110 & 2   & 1   & 1   & 0   & 0   & 0  \\\\\n",
       "\t62 & 1   & 15  & 115 & 3   & 0   & 0   & 0   & 1   & 0  \\\\\n",
       "\t94 & 0   & 29  & 123 & 1   & 1   & 0   & 0   & 0   & 1  \\\\\n",
       "\\end{tabular}\n"
      ],
      "text/markdown": [
       "\n",
       "| <!--/--> | low | age | lwt | race | smoke | ptl | ht | ui | ftv | \n",
       "|---|---|---|---|---|---|\n",
       "| 142 | 0   | 19  | 115 | 3   | 0   | 0   | 0   | 0   | 0   | \n",
       "| 30 | 1   | 21  | 103 | 3   | 0   | 0   | 0   | 0   | 0   | \n",
       "| 169 | 0   | 25  | 140 | 1   | 0   | 0   | 0   | 0   | 1   | \n",
       "| 50 | 1   | 18  | 110 | 2   | 1   | 1   | 0   | 0   | 0   | \n",
       "| 62 | 1   | 15  | 115 | 3   | 0   | 0   | 0   | 1   | 0   | \n",
       "| 94 | 0   | 29  | 123 | 1   | 1   | 0   | 0   | 0   | 1   | \n",
       "\n",
       "\n"
      ],
      "text/plain": [
       "    low age lwt race smoke ptl ht ui ftv\n",
       "142 0   19  115 3    0     0   0  0  0  \n",
       "30  1   21  103 3    0     0   0  0  0  \n",
       "169 0   25  140 1    0     0   0  0  1  \n",
       "50  1   18  110 2    1     1   0  0  0  \n",
       "62  1   15  115 3    0     0   0  1  0  \n",
       "94  0   29  123 1    1     0   0  0  1  "
      ]
     },
     "metadata": {},
     "output_type": "display_data"
    },
    {
     "data": {
      "text/html": [
       "<table>\n",
       "<thead><tr><th></th><th scope=col>low</th><th scope=col>age</th><th scope=col>lwt</th><th scope=col>race</th><th scope=col>smoke</th><th scope=col>ptl</th><th scope=col>ht</th><th scope=col>ui</th><th scope=col>ftv</th></tr></thead>\n",
       "<tbody>\n",
       "\t<tr><th scope=row>86</th><td>0  </td><td>33 </td><td>155</td><td>3  </td><td>0  </td><td>0  </td><td>0  </td><td>0  </td><td>3  </td></tr>\n",
       "\t<tr><th scope=row>87</th><td>0  </td><td>20 </td><td>105</td><td>1  </td><td>1  </td><td>0  </td><td>0  </td><td>0  </td><td>1  </td></tr>\n",
       "\t<tr><th scope=row>99</th><td>0  </td><td>30 </td><td>107</td><td>3  </td><td>0  </td><td>1  </td><td>0  </td><td>1  </td><td>2  </td></tr>\n",
       "\t<tr><th scope=row>101</th><td>0  </td><td>18 </td><td>100</td><td>1  </td><td>1  </td><td>0  </td><td>0  </td><td>0  </td><td>0  </td></tr>\n",
       "\t<tr><th scope=row>118</th><td>0  </td><td>24 </td><td> 90</td><td>1  </td><td>1  </td><td>1  </td><td>0  </td><td>0  </td><td>1  </td></tr>\n",
       "\t<tr><th scope=row>123</th><td>0  </td><td>29 </td><td>140</td><td>1  </td><td>1  </td><td>0  </td><td>0  </td><td>0  </td><td>2  </td></tr>\n",
       "</tbody>\n",
       "</table>\n"
      ],
      "text/latex": [
       "\\begin{tabular}{r|lllllllll}\n",
       "  & low & age & lwt & race & smoke & ptl & ht & ui & ftv\\\\\n",
       "\\hline\n",
       "\t86 & 0   & 33  & 155 & 3   & 0   & 0   & 0   & 0   & 3  \\\\\n",
       "\t87 & 0   & 20  & 105 & 1   & 1   & 0   & 0   & 0   & 1  \\\\\n",
       "\t99 & 0   & 30  & 107 & 3   & 0   & 1   & 0   & 1   & 2  \\\\\n",
       "\t101 & 0   & 18  & 100 & 1   & 1   & 0   & 0   & 0   & 0  \\\\\n",
       "\t118 & 0   & 24  &  90 & 1   & 1   & 1   & 0   & 0   & 1  \\\\\n",
       "\t123 & 0   & 29  & 140 & 1   & 1   & 0   & 0   & 0   & 2  \\\\\n",
       "\\end{tabular}\n"
      ],
      "text/markdown": [
       "\n",
       "| <!--/--> | low | age | lwt | race | smoke | ptl | ht | ui | ftv | \n",
       "|---|---|---|---|---|---|\n",
       "| 86 | 0   | 33  | 155 | 3   | 0   | 0   | 0   | 0   | 3   | \n",
       "| 87 | 0   | 20  | 105 | 1   | 1   | 0   | 0   | 0   | 1   | \n",
       "| 99 | 0   | 30  | 107 | 3   | 0   | 1   | 0   | 1   | 2   | \n",
       "| 101 | 0   | 18  | 100 | 1   | 1   | 0   | 0   | 0   | 0   | \n",
       "| 118 | 0   | 24  |  90 | 1   | 1   | 1   | 0   | 0   | 1   | \n",
       "| 123 | 0   | 29  | 140 | 1   | 1   | 0   | 0   | 0   | 2   | \n",
       "\n",
       "\n"
      ],
      "text/plain": [
       "    low age lwt race smoke ptl ht ui ftv\n",
       "86  0   33  155 3    0     0   0  0  3  \n",
       "87  0   20  105 1    1     0   0  0  1  \n",
       "99  0   30  107 3    0     1   0  1  2  \n",
       "101 0   18  100 1    1     0   0  0  0  \n",
       "118 0   24   90 1    1     1   0  0  1  \n",
       "123 0   29  140 1    1     0   0  0  2  "
      ]
     },
     "metadata": {},
     "output_type": "display_data"
    }
   ],
   "source": [
    "#ライブラリインストール\n",
    "library(kernlab)\n",
    "#乱数固定\n",
    "set.seed(123)\n",
    "#130個データ選択\n",
    "index <- sample(1:189,130)\n",
    "#10列目は除く\n",
    "train.data<- birthwt[index,-10]\n",
    "head(train.data)\n",
    "#学習以外のデータをテストとして作成\n",
    "test.data <- birthwt[-index,-10]\n",
    "head(test.data)"
   ]
  },
  {
   "cell_type": "code",
   "execution_count": 26,
   "metadata": {},
   "outputs": [
    {
     "name": "stdout",
     "output_type": "stream",
     "text": [
      " Setting default kernel parameters  \n"
     ]
    },
    {
     "data": {
      "text/plain": [
       "Support Vector Machine object of class \"ksvm\" \n",
       "\n",
       "SV type: C-svc  (classification) \n",
       " parameter : cost C = 1 \n",
       "\n",
       "Linear (vanilla) kernel function. \n",
       "\n",
       "Number of Support Vectors : 83 \n",
       "\n",
       "Objective Function Value : -68.4074 \n",
       "Training error : 0.238462 "
      ]
     },
     "metadata": {},
     "output_type": "display_data"
    }
   ],
   "source": [
    "#学習とテストを実施\n",
    "#目的変数はカテゴリ型にする\n",
    "birthwt.train <- ksvm(as.factor(low) ~ ., data = train.data, kernel = \"vanilladot\")\n",
    "birthwt.train"
   ]
  },
  {
   "cell_type": "code",
   "execution_count": 27,
   "metadata": {},
   "outputs": [
    {
     "data": {
      "text/plain": [
       "   birthwt.test\n",
       "     0  1\n",
       "  0 32  7\n",
       "  1 15  5"
      ]
     },
     "metadata": {},
     "output_type": "display_data"
    }
   ],
   "source": [
    "#テスト実施\n",
    "birthwt.test <- predict(birthwt.train, test.data)\n",
    "table(birthwt[-index,]$low, birthwt.test)"
   ]
  },
  {
   "cell_type": "code",
   "execution_count": null,
   "metadata": {},
   "outputs": [],
   "source": []
  }
 ],
 "metadata": {
  "kernelspec": {
   "display_name": "R",
   "language": "R",
   "name": "ir"
  },
  "language_info": {
   "codemirror_mode": "r",
   "file_extension": ".r",
   "mimetype": "text/x-r-source",
   "name": "R",
   "pygments_lexer": "r",
   "version": "3.5.1"
  }
 },
 "nbformat": 4,
 "nbformat_minor": 2
}
